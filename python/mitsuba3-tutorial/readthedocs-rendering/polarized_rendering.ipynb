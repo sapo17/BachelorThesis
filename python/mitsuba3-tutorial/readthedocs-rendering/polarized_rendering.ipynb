{
 "cells": [
  {
   "cell_type": "code",
   "execution_count": 3,
   "metadata": {},
   "outputs": [
    {
     "ename": "ImportError",
     "evalue": "Requested an unsupported variant \"scalar_spectral_polarized\". The following variants are available: scalar_rgb, scalar_spectral, cuda_ad_rgb, llvm_ad_rgb.",
     "output_type": "error",
     "traceback": [
      "\u001b[1;31m---------------------------------------------------------------------------\u001b[0m",
      "\u001b[1;31mImportError\u001b[0m                               Traceback (most recent call last)",
      "Cell \u001b[1;32mIn [3], line 3\u001b[0m\n\u001b[0;32m      1\u001b[0m \u001b[39mimport\u001b[39;00m \u001b[39mmitsuba\u001b[39;00m \u001b[39mas\u001b[39;00m \u001b[39mmi\u001b[39;00m\n\u001b[1;32m----> 3\u001b[0m mi\u001b[39m.\u001b[39;49mset_variant(\u001b[39m'\u001b[39;49m\u001b[39mscalar_spectral_polarized\u001b[39;49m\u001b[39m'\u001b[39;49m)\n",
      "File \u001b[1;32mc:\\Users\\z0047hfn\\AppData\\Local\\Programs\\Python\\Python310\\lib\\site-packages\\mitsuba\\__init__.py:323\u001b[0m, in \u001b[0;36mMitsubaModule.set_variant\u001b[1;34m(self, *args)\u001b[0m\n\u001b[0;32m    320\u001b[0m         \u001b[39mbreak\u001b[39;00m\n\u001b[0;32m    322\u001b[0m \u001b[39mif\u001b[39;00m value \u001b[39mis\u001b[39;00m \u001b[39mNone\u001b[39;00m:\n\u001b[1;32m--> 323\u001b[0m     \u001b[39mraise\u001b[39;00m \u001b[39mImportError\u001b[39;00m(\u001b[39m'\u001b[39m\u001b[39mRequested an unsupported variant \u001b[39m\u001b[39m\"\u001b[39m\u001b[39m%s\u001b[39;00m\u001b[39m\"\u001b[39m\u001b[39m. The \u001b[39m\u001b[39m'\u001b[39m\n\u001b[0;32m    324\u001b[0m                       \u001b[39m'\u001b[39m\u001b[39mfollowing variants are available: \u001b[39m\u001b[39m%s\u001b[39;00m\u001b[39m.\u001b[39m\u001b[39m'\u001b[39m \u001b[39m%\u001b[39m (\n\u001b[0;32m    325\u001b[0m                         args \u001b[39mif\u001b[39;00m \u001b[39mlen\u001b[39m(args) \u001b[39m>\u001b[39m \u001b[39m1\u001b[39m \u001b[39melse\u001b[39;00m args[\u001b[39m0\u001b[39m],\n\u001b[0;32m    326\u001b[0m                         \u001b[39m\"\u001b[39m\u001b[39m, \u001b[39m\u001b[39m\"\u001b[39m\u001b[39m.\u001b[39mjoin(\u001b[39mself\u001b[39m\u001b[39m.\u001b[39mvariants())))\n\u001b[0;32m    328\u001b[0m \u001b[39mglobal\u001b[39;00m _tls\n\u001b[0;32m    329\u001b[0m \u001b[39mif\u001b[39;00m \u001b[39mgetattr\u001b[39m(_tls, \u001b[39m'\u001b[39m\u001b[39mvariant\u001b[39m\u001b[39m'\u001b[39m, \u001b[39mNone\u001b[39;00m) \u001b[39m==\u001b[39m value:\n",
      "\u001b[1;31mImportError\u001b[0m: Requested an unsupported variant \"scalar_spectral_polarized\". The following variants are available: scalar_rgb, scalar_spectral, cuda_ad_rgb, llvm_ad_rgb."
     ]
    }
   ],
   "source": [
    "import mitsuba as mi\n",
    "\n",
    "mi.set_variant('scalar_spectral_polarized')"
   ]
  },
  {
   "cell_type": "code",
   "execution_count": null,
   "metadata": {},
   "outputs": [],
   "source": []
  }
 ],
 "metadata": {
  "kernelspec": {
   "display_name": "Python 3.10.8 64-bit",
   "language": "python",
   "name": "python3"
  },
  "language_info": {
   "codemirror_mode": {
    "name": "ipython",
    "version": 3
   },
   "file_extension": ".py",
   "mimetype": "text/x-python",
   "name": "python",
   "nbconvert_exporter": "python",
   "pygments_lexer": "ipython3",
   "version": "3.10.8"
  },
  "orig_nbformat": 4,
  "vscode": {
   "interpreter": {
    "hash": "6ebd1cc8aac2595d1e95c317221d934809172e0d88db3aaf15b3c4789d1d9f7f"
   }
  }
 },
 "nbformat": 4,
 "nbformat_minor": 2
}
