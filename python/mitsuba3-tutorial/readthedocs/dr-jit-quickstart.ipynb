{
 "cells": [
  {
   "cell_type": "code",
   "execution_count": 1,
   "metadata": {},
   "outputs": [],
   "source": [
    "import numpy as np\n",
    "import drjit as dr"
   ]
  },
  {
   "cell_type": "code",
   "execution_count": 3,
   "metadata": {},
   "outputs": [
    {
     "name": "stdout",
     "output_type": "stream",
     "text": [
      "c -> (<class 'drjit.llvm.Float'>) = [9.0, 8.0, 7.0, 6.0]\n",
      "d -> (<class 'numpy.ndarray'>) = [9. 8. 7. 6.]\n"
     ]
    }
   ],
   "source": [
    "from drjit.llvm import Float, UInt32\n",
    "\n",
    "# Create some floating-point arrays\n",
    "a = Float([1.0, 2.0, 3.0, 4.0])\n",
    "b = Float([4.0, 3.0, 2.0, 1.0])\n",
    "\n",
    "# Perform simple arithmetic\n",
    "c = a + 2.0 * b\n",
    "\n",
    "print(f'c -> ({type(c)}) = {c}')\n",
    "\n",
    "# Convert to NumPy array\n",
    "d = np.array(c)\n",
    "\n",
    "print(f'd -> ({type(d)}) = {d}')"
   ]
  },
  {
   "cell_type": "code",
   "execution_count": 5,
   "metadata": {},
   "outputs": [
    {
     "name": "stdout",
     "output_type": "stream",
     "text": [
      "dr.zeros: [0.0, 0.0, 0.0, 0.0, 0.0]\n",
      "dr.full: [0.10000000149011612, 0.10000000149011612, 0.10000000149011612, 0.10000000149011612, 0.10000000149011612]\n",
      "dr.arange: [0, 1, 2, 3, 4]\n",
      "dr.linespace: [0.0, 0.5, 1.0, 1.5, 2.0]\n"
     ]
    }
   ],
   "source": [
    "# Initialize floating-point array of size 5 with zeros\n",
    "a = dr.zeros(Float, 5) # np.zeros(5)\n",
    "print(f'dr.zeros: {a}')\n",
    "\n",
    "# Initialize floating-point array of size 5 with a constant value\n",
    "a = dr.full(Float, 0.1, 5) # np.ones(5, 0.4)\n",
    "print(f'dr.full: {a}')\n",
    "\n",
    "a = dr.arange(UInt32, 5) # np.arange(5)\n",
    "print(f'dr.arange: {a}')\n",
    "\n",
    "# Return evenly spaced numbers over a specified interval\n",
    "a = dr.linspace(Float, 0.0, 2.0, 5) # np.linspace(0.0, 2.0, 5)\n",
    "print(f'dr.linespace: {a}')"
   ]
  },
  {
   "cell_type": "code",
   "execution_count": 4,
   "metadata": {},
   "outputs": [
    {
     "name": "stdout",
     "output_type": "stream",
     "text": [
      "x -> (<class 'drjit.llvm.Float'>) [0.0, 1.0, 2.0, 3.0, 4.0]\n",
      "m -> (<class 'drjit.llvm.Bool'>) [False, False, False, True, True]\n",
      "y -> (<class 'drjit.llvm.Float'>) [1.0, 1.0, 1.0, 4.0, 4.0]\n"
     ]
    }
   ],
   "source": [
    "x = dr.arange(Float, 5)\n",
    "m = x > 2.0 # True for all values of a that are greater than 2.0\n",
    "y = dr.select(m, 4.0, 1.0) # Set the values greater than 2.0 to 4.0 otherwise to 1.0\n",
    "print(f'x -> ({type(x)}) {x}')\n",
    "print(f'm -> ({type(m)}) {m}')\n",
    "print(f'y -> ({type(y)}) {y}')"
   ]
  },
  {
   "cell_type": "code",
   "execution_count": 6,
   "metadata": {},
   "outputs": [
    {
     "name": "stdout",
     "output_type": "stream",
     "text": [
      "m: [0.0, 0.4794255495071411, 0.5403022766113281, 0.07073719799518585, -0.41614681482315063]\n"
     ]
    }
   ],
   "source": [
    "s, c = dr.sincos(a)\n",
    "m = dr.minimum(s, c)\n",
    "print(f'm: {m}')"
   ]
  },
  {
   "cell_type": "markdown",
   "metadata": {},
   "source": [
    "Dr.Jit also provides operations that require a pass over the entire array and return a single scalar value. Those operations are expensive as they will trigger a syncronization point, hence it is better to avoid them if possible.\n",
    "\n",
    "The following snippet of code explores a few of those:"
   ]
  },
  {
   "cell_type": "code",
   "execution_count": 7,
   "metadata": {},
   "outputs": [
    {
     "name": "stdout",
     "output_type": "stream",
     "text": [
      "a: [1.0, 2.0, 3.0, 4.0, 5.0]\n",
      "dr.sum(a): [15.0]\n",
      "dr.prod(a): [120.0]\n",
      "dr.mean(a): [3.0]\n",
      "m: [False, False, True, True, True]\n",
      "dr.all(m): False\n",
      "dr.any(m): True\n",
      "dr.none(m): False\n"
     ]
    }
   ],
   "source": [
    "a = dr.arange(Float, 5) + 1\n",
    "print(f'a: {a}')\n",
    "\n",
    "# Horizontal sum\n",
    "b = dr.sum(a) # np.sum(a)\n",
    "print(f'dr.sum(a): {b}')\n",
    "\n",
    "# Horizontal product\n",
    "b = dr.prod(a) # np.prod(a)\n",
    "print(f'dr.prod(a): {b}')\n",
    "\n",
    "# Mean value over the entire array\n",
    "b = dr.mean(a) # np.mean(a)\n",
    "print(f'dr.mean(a): {b}')\n",
    "\n",
    "m = a > 2\n",
    "print(f'm: {m}')\n",
    "\n",
    "# True if all value of the mask array are True\n",
    "b = dr.all(m) # np.all(m)\n",
    "print(f'dr.all(m): {b}')\n",
    "\n",
    "# True if any value of the mask array are True\n",
    "b = dr.any(m) # np.any(m)\n",
    "print(f'dr.any(m): {b}')\n",
    "\n",
    "# True if no value of the mask array are True\n",
    "b = dr.none(m) # ~np.any(m)\n",
    "print(f'dr.none(m): {b}')"
   ]
  },
  {
   "cell_type": "code",
   "execution_count": 8,
   "metadata": {},
   "outputs": [
    {
     "name": "stdout",
     "output_type": "stream",
     "text": [
      "source: [0.0, 0.25, 0.5, 0.75, 1.0]\n",
      "indices: [1, 2]\n",
      "result: [0.25, 0.5]\n"
     ]
    }
   ],
   "source": [
    "source = dr.linspace(Float, 0, 1, 5)\n",
    "indices = UInt32([1, 2]) # Only read the 2nd and 3rd elements of the source array\n",
    "result = dr.gather(Float, source, indices)\n",
    "print(f'source: {source}')\n",
    "print(f'indices: {indices}')\n",
    "print(f'result: {result}')"
   ]
  },
  {
   "cell_type": "code",
   "execution_count": 9,
   "metadata": {},
   "outputs": [
    {
     "name": "stdout",
     "output_type": "stream",
     "text": [
      "indices: [0, 3, 4]\n",
      "source: [1.0, 2.0, 3.0]\n",
      "target: [1.0, 0.0, 0.0, 2.0, 3.0]\n"
     ]
    }
   ],
   "source": [
    "target = dr.zeros(Float, 5)\n",
    "indices = UInt32([0, 3, 4]) # Write to the first and last two elements of the target array\n",
    "source = Float([1.0, 2.0, 3.0])\n",
    "dr.scatter(target, source, indices)\n",
    "print(f'indices: {indices}')\n",
    "print(f'source: {source}')\n",
    "print(f'target: {target}')"
   ]
  },
  {
   "cell_type": "code",
   "execution_count": null,
   "metadata": {},
   "outputs": [],
   "source": []
  }
 ],
 "metadata": {
  "kernelspec": {
   "display_name": "Python 3.10.8 64-bit",
   "language": "python",
   "name": "python3"
  },
  "language_info": {
   "codemirror_mode": {
    "name": "ipython",
    "version": 3
   },
   "file_extension": ".py",
   "mimetype": "text/x-python",
   "name": "python",
   "nbconvert_exporter": "python",
   "pygments_lexer": "ipython3",
   "version": "3.10.8"
  },
  "orig_nbformat": 4,
  "vscode": {
   "interpreter": {
    "hash": "f8f88b206165e2d1b90468f8b07b5678eeca2d72a455d2701a26c9d1aee63357"
   }
  }
 },
 "nbformat": 4,
 "nbformat_minor": 2
}
