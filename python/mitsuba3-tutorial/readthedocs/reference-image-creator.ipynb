{
 "cells": [
  {
   "cell_type": "code",
   "execution_count": 1,
   "metadata": {},
   "outputs": [],
   "source": [
    "import drjit as dr\n",
    "import mitsuba as mi\n",
    "mi.set_variant('cuda_ad_rgb', 'llvm_ad_rgb')"
   ]
  },
  {
   "cell_type": "code",
   "execution_count": 2,
   "metadata": {},
   "outputs": [],
   "source": [
    "import matplotlib.pyplot as plt\n",
    "def plot_list(images, title=None):\n",
    "    fig, axs = plt.subplots(1, len(images), figsize=(18, 3))\n",
    "    for i in range(len(images)):\n",
    "        axs[i].imshow(mi.util.convert_to_bitmap(images[i]))\n",
    "        axs[i].axis('off')\n",
    "    if title is not None:\n",
    "        plt.suptitle(title)"
   ]
  },
  {
   "cell_type": "code",
   "execution_count": 3,
   "metadata": {},
   "outputs": [],
   "source": [
    "# Rendering resolution\n",
    "render_res = 1024\n",
    "\n",
    "# Number of sensors\n",
    "sensor_count = 15"
   ]
  },
  {
   "cell_type": "code",
   "execution_count": 4,
   "metadata": {},
   "outputs": [],
   "source": [
    "def create_sensors(sensor_count, translate, rotate, rotationAngle, target, origin, up, fov, render_res):\n",
    "    sensors = []\n",
    "    for i in range(sensor_count):\n",
    "        angle = 360.0 / sensor_count * i\n",
    "        sensors.append(mi.load_dict({\n",
    "            'type': 'perspective',\n",
    "            'fov': fov,\n",
    "            'to_world': mi.ScalarTransform4f.translate(translate)\n",
    "                                            .rotate([0, 1, 0], angle)\n",
    "                                            .rotate(rotate, rotationAngle)\n",
    "                                            .look_at(target=target, origin=origin, up=up),\n",
    "            'film': {\n",
    "                'type': 'hdrfilm',\n",
    "                'width': render_res,\n",
    "                'height': render_res,\n",
    "                'filter': {'type': 'mitchell'},\n",
    "                'pixel_format': 'rgba'\n",
    "            }\n",
    "        }))\n",
    "    return sensors"
   ]
  },
  {
   "cell_type": "code",
   "execution_count": 5,
   "metadata": {},
   "outputs": [],
   "source": [
    "translate = [0, 0.5, 0]\n",
    "target = [0, 0, 0]\n",
    "origin = [0, 0, -3]\n",
    "up = [0, 1, 0]\n",
    "fov = 60\n",
    "rotate = [1, 0, 0]\n",
    "angle = 0\n",
    "sensors = create_sensors(sensor_count, translate, rotate,\n",
    "                         angle, target, origin, up, fov, render_res)\n"
   ]
  },
  {
   "cell_type": "code",
   "execution_count": 6,
   "metadata": {},
   "outputs": [],
   "source": [
    "rotate = [1, 0, 0]\n",
    "angle = 20\n",
    "sensors += create_sensors(sensor_count, translate, rotate,\n",
    "                         angle, target, origin, up, fov, render_res)"
   ]
  },
  {
   "cell_type": "code",
   "execution_count": 7,
   "metadata": {},
   "outputs": [],
   "source": [
    "rotate = [1, 0, 0]\n",
    "angle = 40\n",
    "sensors += create_sensors(sensor_count, translate, rotate,\n",
    "                         angle, target, origin, up, fov, render_res)"
   ]
  },
  {
   "cell_type": "code",
   "execution_count": 8,
   "metadata": {},
   "outputs": [],
   "source": [
    "rotate = [1, 0, 0]\n",
    "angle = -20\n",
    "sensors += create_sensors(sensor_count, translate, rotate,\n",
    "                         angle, target, origin, up, fov, render_res)"
   ]
  },
  {
   "cell_type": "code",
   "execution_count": 9,
   "metadata": {},
   "outputs": [],
   "source": [
    "rotate = [1, 0, 0]\n",
    "angle = -30\n",
    "sensors += create_sensors(sensor_count, translate, rotate,\n",
    "                         angle, target, origin, up, fov, render_res)"
   ]
  },
  {
   "cell_type": "code",
   "execution_count": 10,
   "metadata": {},
   "outputs": [],
   "source": [
    "scene_ref = mi.load_file('../scenes/cbox-sch-modified/simple-monkey.xml')\n",
    "ref_images = [mi.render(scene_ref, sensor=sensor, spp=64) for sensor in sensors]"
   ]
  },
  {
   "cell_type": "code",
   "execution_count": 11,
   "metadata": {},
   "outputs": [],
   "source": [
    "# plot if necessary\n",
    "# plot_list(ref_images)"
   ]
  },
  {
   "cell_type": "code",
   "execution_count": 12,
   "metadata": {},
   "outputs": [],
   "source": [
    "# save images\n",
    "for idx, ref in enumerate(ref_images):\n",
    "    output_path = 'outputs/ref-images/'\n",
    "    image_name = output_path + str(idx) + '.png'\n",
    "    mi.util.write_bitmap(image_name, ref)"
   ]
  },
  {
   "cell_type": "code",
   "execution_count": null,
   "metadata": {},
   "outputs": [],
   "source": []
  }
 ],
 "metadata": {
  "kernelspec": {
   "display_name": "Python 3.10.8 64-bit",
   "language": "python",
   "name": "python3"
  },
  "language_info": {
   "codemirror_mode": {
    "name": "ipython",
    "version": 3
   },
   "file_extension": ".py",
   "mimetype": "text/x-python",
   "name": "python",
   "nbconvert_exporter": "python",
   "pygments_lexer": "ipython3",
   "version": "3.10.8"
  },
  "orig_nbformat": 4,
  "vscode": {
   "interpreter": {
    "hash": "f8f88b206165e2d1b90468f8b07b5678eeca2d72a455d2701a26c9d1aee63357"
   }
  }
 },
 "nbformat": 4,
 "nbformat_minor": 2
}
